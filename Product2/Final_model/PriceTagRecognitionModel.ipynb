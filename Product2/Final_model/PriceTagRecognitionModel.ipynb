{
 "cells": [
  {
   "cell_type": "markdown",
   "metadata": {
    "id": "yTV8sR3okzOw"
   },
   "source": [
    "# **Step 1:** Installation of RetinaNet and PyTesseract"
   ]
  },
  {
   "cell_type": "code",
   "execution_count": null,
   "metadata": {
    "id": "Z4nR6za-E_ke"
   },
   "outputs": [],
   "source": [
    "# Restart runtime after this cell execution\n",
    "!pip uninstall keras -y\n",
    "!pip uninstall keras-nightly -y\n",
    "!pip uninstall keras-Preprocessing -y\n",
    "!pip uninstall keras-vis -y\n",
    "!pip uninstall tensorflow -y\n",
    "\n",
    "!pip install tensorflow==2.3.0\n",
    "!pip install keras==2.4\n",
    "!pip install pytesseract\n",
    "!sudo apt install tesseract-ocr\n",
    "\n",
    "# !which tesseract\n",
    "# pytesseract.pytesseract.tesseract_cmd = (\n",
    "#     r'/usr/bin/tesseract'\n",
    "# )\n"
   ]
  },
  {
   "cell_type": "code",
   "execution_count": null,
   "metadata": {
    "id": "uoBtjUz8jI5d"
   },
   "outputs": [],
   "source": [
    "# clone the retina net repository\n",
    "! git clone https://github.com/fizyr/keras-retinanet"
   ]
  },
  {
   "cell_type": "code",
   "execution_count": null,
   "metadata": {
    "id": "a0OvTzcZjWfR"
   },
   "outputs": [],
   "source": [
    "# Navigate to retina net repository\n",
    "!cd ~\n",
    "%cd keras-retinanet\n",
    "! git checkout 42068ef9e406602d92a1afe2ee7d470f7e9860df\n",
    "! python setup.py install\n",
    "! python setup.py build_ext --inplace"
   ]
  },
  {
   "cell_type": "code",
   "execution_count": null,
   "metadata": {
    "id": "J8hOCrROjaHr"
   },
   "outputs": [],
   "source": [
    "# Install using pip\n",
    "! pip install ."
   ]
  },
  {
   "cell_type": "code",
   "execution_count": null,
   "metadata": {
    "id": "jRXRf0Hfjtw-"
   },
   "outputs": [],
   "source": [
    "# Compile Cuthon code\n",
    "# ! python setup.py build_ext --inplace"
   ]
  },
  {
   "cell_type": "markdown",
   "metadata": {
    "id": "VFUeUdUNlT3I"
   },
   "source": [
    "# **Step 2:** Run test"
   ]
  },
  {
   "cell_type": "code",
   "execution_count": null,
   "metadata": {},
   "outputs": [],
   "source": [
    "%ls"
   ]
  },
  {
   "cell_type": "code",
   "execution_count": null,
   "metadata": {},
   "outputs": [],
   "source": [
    "%cd GitHub/Product2/keras-retinanet/snapshots/"
   ]
  },
  {
   "cell_type": "code",
   "execution_count": null,
   "metadata": {
    "colab": {
     "base_uri": "https://localhost:8080/"
    },
    "id": "jIyCUzN-lCXX",
    "outputId": "144f2181-1c44-40fb-9949-a73bcf672050"
   },
   "outputs": [],
   "source": [
    "%cd ~\n",
    "%cd /Product2/keras-retinanet/snapshots/"
   ]
  },
  {
   "cell_type": "code",
   "execution_count": null,
   "metadata": {
    "colab": {
     "base_uri": "https://localhost:8080/"
    },
    "id": "uh-acfFBlgSa",
    "outputId": "1e09e757-57cc-4ba2-8fe8-9cb669ed1272"
   },
   "outputs": [],
   "source": [
    "# Download this file from github https://github.com/fizyr/keras-retinanet/releases/download/0.5.1/resnet50_coco_best_v2.1.0.h5\n",
    "# and put it into the keras-retinanet/snapshots\n",
    "! wget https://github.com/fizyr/keras-retinanet/releases/download/0.5.1/resnet50_coco_best_v2.1.0.h5"
   ]
  },
  {
   "cell_type": "code",
   "execution_count": null,
   "metadata": {},
   "outputs": [],
   "source": [
    "%ls"
   ]
  },
  {
   "cell_type": "code",
   "execution_count": null,
   "metadata": {
    "colab": {
     "base_uri": "https://localhost:8080/"
    },
    "id": "7PyDdVHjoun9",
    "outputId": "c831b1b3-2814-422f-dd97-97ae0ae1412a"
   },
   "outputs": [],
   "source": [
    "%cd keras-retinanet"
   ]
  },
  {
   "cell_type": "code",
   "execution_count": 1,
   "metadata": {
    "id": "sUyP7Y6nnUcT"
   },
   "outputs": [],
   "source": [
    "# show images inline\n",
    "%matplotlib inline\n",
    "\n",
    "# automatically reload modules when they have changed\n",
    "%load_ext autoreload\n",
    "%autoreload 2\n",
    "\n",
    "# import keras\n",
    "import tensorflow\n",
    "from tensorflow import keras\n",
    "from tensorflow.keras import models\n",
    "\n",
    "# import keras_retinanet\n",
    "from keras_retinanet import models\n",
    "from keras_retinanet.utils.image import read_image_bgr, preprocess_image, resize_image\n",
    "from keras_retinanet.utils.visualization import draw_box, draw_caption\n",
    "from keras_retinanet.utils.colors import label_color\n",
    "from keras_retinanet.utils.gpu import setup_gpu\n",
    "\n",
    "# import miscellaneous modules\n",
    "import matplotlib.pyplot as plt\n",
    "import cv2\n",
    "import os\n",
    "import numpy as np\n",
    "import pandas as pd\n",
    "import time"
   ]
  },
  {
   "cell_type": "code",
   "execution_count": null,
   "metadata": {
    "id": "j3pNWMy6Dw0_"
   },
   "outputs": [],
   "source": [
    "# ! pip install h5py==2.9.0"
   ]
  },
  {
   "cell_type": "code",
   "execution_count": null,
   "metadata": {},
   "outputs": [],
   "source": [
    "%cd Product2"
   ]
  },
  {
   "cell_type": "code",
   "execution_count": 2,
   "metadata": {},
   "outputs": [
    {
     "name": "stdout",
     "output_type": "stream",
     "text": [
      "\u001b[0m\u001b[01;34mkeras-retinanet\u001b[0m/  PriceTagRecognitionModel.ipynb  pricetagrecognitionmodel.py\n"
     ]
    }
   ],
   "source": [
    "%ls"
   ]
  },
  {
   "cell_type": "code",
   "execution_count": null,
   "metadata": {
    "colab": {
     "base_uri": "https://localhost:8080/"
    },
    "id": "Q05L89IRsEJH",
    "outputId": "5b7b1a0f-e1d6-4b99-db1a-0cf3996aecdd"
   },
   "outputs": [],
   "source": [
    "# adjust this to point to your downloaded/trained model\n",
    "# models can be downloaded here: https://github.com/fizyr/keras-retinanet/releases\n",
    "model_path = os.path.join('snapshots', 'resnet50_coco_best_v2.1.0.h5')\n",
    "\n",
    "# load retinanet model\n",
    "model = models.load_model(model_path, backbone_name='resnet50')\n",
    "\n",
    "# if the model is not converted to an inference model, use the line below\n",
    "# see: https://github.com/fizyr/keras-retinanet#converting-a-training-model-to-inference-model\n",
    "#model = models.convert_model(model)\n",
    "\n",
    "print(model.summary())\n",
    "\n",
    "# load label to names mapping for visualization purposes\n",
    "labels_to_names = {0: 'person', 1: 'bicycle', 2: 'car', 3: 'motorcycle', \n",
    "                   4: 'airplane', 5: 'bus', 6: 'train', 7: 'truck', \n",
    "                   8: 'boat', 9: 'traffic light', 10: 'fire hydrant', \n",
    "                   11: 'stop sign', 12: 'parking meter', 13: 'bench', \n",
    "                   14: 'bird', 15: 'cat', 16: 'dog', 17: 'horse', \n",
    "                   18: 'sheep', 19: 'cow', 20: 'elephant', 21: 'bear', \n",
    "                   22: 'zebra', 23: 'giraffe', 24: 'backpack', 25: 'umbrella', \n",
    "                   26: 'handbag', 27: 'tie', 28: 'suitcase', 29: 'frisbee', \n",
    "                   30: 'skis', 31: 'snowboard', 32: 'sports ball', 33: 'kite', \n",
    "                   34: 'baseball bat', 35: 'baseball glove', 36: 'skateboard', \n",
    "                   37: 'surfboard', 38: 'tennis racket', 39: 'bottle', 40: 'wine glass', \n",
    "                   41: 'cup', 42: 'fork', 43: 'knife', 44: 'spoon', 45: 'bowl', \n",
    "                   46: 'banana', 47: 'apple', 48: 'sandwich', 49: 'orange', \n",
    "                   50: 'broccoli', 51: 'carrot', 52: 'hot dog', 53: 'pizza', \n",
    "                   54: 'donut', 55: 'cake', 56: 'chair', 57: 'couch', 58: 'potted plant', \n",
    "                   59: 'bed', 60: 'dining table', 61: 'toilet', 62: 'tv', 63: 'laptop', \n",
    "                   64: 'mouse', 65: 'remote', 66: 'keyboard', 67: 'cell phone', \n",
    "                   68: 'microwave', 69: 'oven', 70: 'toaster', 71: 'sink', \n",
    "                   72: 'refrigerator', 73: 'book', 74: 'clock', 75: 'vase', \n",
    "                   76: 'scissors', 77: 'teddy bear', 78: 'hair drier', 79: 'toothbrush'}"
   ]
  },
  {
   "cell_type": "code",
   "execution_count": null,
   "metadata": {
    "colab": {
     "base_uri": "https://localhost:8080/",
     "height": 676
    },
    "id": "89lbX2AQsEGu",
    "outputId": "03f07393-76af-4d60-bf2a-b28dfad3d96a"
   },
   "outputs": [],
   "source": [
    "%%time\n",
    "# load image\n",
    "image = read_image_bgr('examples/000000008021.jpg')\n",
    "\n",
    "# copy to draw on\n",
    "draw = image.copy()\n",
    "draw = cv2.cvtColor(draw, cv2.COLOR_BGR2RGB)\n",
    "\n",
    "# preprocess image for network\n",
    "image = preprocess_image(image)\n",
    "image, scale = resize_image(image)\n",
    "\n",
    "# process image\n",
    "start = time.time()\n",
    "boxes, scores, labels = model.predict_on_batch(np.expand_dims(image, axis=0))\n",
    "print(\"processing time: \", time.time() - start)\n",
    "\n",
    "# correct for image scale\n",
    "boxes /= scale\n",
    "\n",
    "# visualize detections\n",
    "for box, score, label in zip(boxes[0], scores[0], labels[0]):\n",
    "    # scores are sorted so we can break\n",
    "    if score < 0.5:\n",
    "        break\n",
    "        \n",
    "    color = label_color(label)\n",
    "    \n",
    "    b = box.astype(int)\n",
    "    draw_box(draw, b, color=color)\n",
    "    \n",
    "    caption = \"{} {:.3f}\".format(labels_to_names[label], score)\n",
    "    draw_caption(draw, b, caption)\n",
    "    \n",
    "plt.figure(figsize=(15, 15))\n",
    "plt.axis('off')\n",
    "plt.imshow(draw)\n",
    "plt.show()"
   ]
  },
  {
   "cell_type": "markdown",
   "metadata": {
    "id": "OkYc769Zl4nH"
   },
   "source": [
    "# **Step 3:** Load our models"
   ]
  },
  {
   "cell_type": "markdown",
   "metadata": {
    "id": "fwC6PFRHEWmo"
   },
   "source": [
    "## **Import all necessary packages**"
   ]
  },
  {
   "cell_type": "code",
   "execution_count": 5,
   "metadata": {
    "colab": {
     "base_uri": "https://localhost:8080/"
    },
    "id": "Bc3P166Yk2L1",
    "outputId": "cd41bddf-7c82-49f1-89e5-8eff99850409"
   },
   "outputs": [
    {
     "name": "stdout",
     "output_type": "stream",
     "text": [
      "The autoreload extension is already loaded. To reload it, use:\n",
      "  %reload_ext autoreload\n"
     ]
    }
   ],
   "source": [
    "# show images inline\n",
    "%matplotlib inline\n",
    "\n",
    "# automatically reload modules when they have changed\n",
    "%load_ext autoreload\n",
    "%autoreload 2\n",
    "\n",
    "# import keras\n",
    "import tensorflow\n",
    "from tensorflow import keras\n",
    "from tensorflow.keras import models\n",
    "\n",
    "# import keras_retinanet\n",
    "from keras_retinanet import models\n",
    "from keras_retinanet.utils.image import read_image_bgr, preprocess_image, resize_image\n",
    "from keras_retinanet.utils.visualization import draw_box, draw_caption\n",
    "from keras_retinanet.utils.colors import label_color\n",
    "from keras_retinanet.utils.gpu import setup_gpu\n",
    "\n",
    "# import miscellaneous modules\n",
    "import matplotlib.pyplot as plt\n",
    "import cv2\n",
    "import os\n",
    "import numpy as np\n",
    "import pandas as pd\n",
    "import time\n",
    "import math\n",
    "import albumentations as A\n",
    "import pytesseract"
   ]
  },
  {
   "cell_type": "markdown",
   "metadata": {
    "id": "spD6B8CPENYs"
   },
   "source": [
    "## **Mount drive and define pathes for models weights**"
   ]
  },
  {
   "cell_type": "code",
   "execution_count": 3,
   "metadata": {},
   "outputs": [
    {
     "name": "stdout",
     "output_type": "stream",
     "text": [
      "/home/fantast/Documents/GitHub/Product2/keras-retinanet\n"
     ]
    }
   ],
   "source": [
    "%cd keras-retinanet"
   ]
  },
  {
   "cell_type": "code",
   "execution_count": 4,
   "metadata": {
    "id": "pSq8CxbVUH7w"
   },
   "outputs": [],
   "source": [
    "model_path_1 = 'weights/resnet50_csv_10.h5'\n",
    "model_path_2 = 'weights/resnet50_csv_20.h5'"
   ]
  },
  {
   "cell_type": "markdown",
   "metadata": {
    "id": "BPAs5OwKEFXG"
   },
   "source": [
    "## **Define all fucntions**"
   ]
  },
  {
   "cell_type": "code",
   "execution_count": 6,
   "metadata": {
    "id": "CL41wyOIjS20"
   },
   "outputs": [],
   "source": [
    "def load_model_weights(model_path_1):\n",
    "    # Load weights for first model price tag recognition\n",
    "    model_1 = models.load_model(model_path_1, backbone_name='resnet50')\n",
    "    model_1 = models.convert_model(model_1)\n",
    "\n",
    "    # Load weights for first model price tag recognition\n",
    "\n",
    "\n",
    "    return model_1"
   ]
  },
  {
   "cell_type": "code",
   "execution_count": 7,
   "metadata": {
    "id": "tdeDHerGOOIU"
   },
   "outputs": [],
   "source": [
    "def model_tag_recognition(image):\n",
    "    # Copy of image to crop\n",
    "    crop = image.copy()\n",
    "    crop = cv2.cvtColor(crop, cv2.COLOR_BGR2RGB)\n",
    "\n",
    "    # preprocess image for network\n",
    "    image = preprocess_image(image)\n",
    "    image, scale = resize_image(image)\n",
    "\n",
    "    # process image\n",
    "    boxes, scores, labels = model_1.predict_on_batch(np.expand_dims(image, axis=0))\n",
    "\n",
    "    # correct for image scale\n",
    "    boxes /= scale\n",
    "\n",
    "    # take our box\n",
    "    box, score, label = boxes[0][0], scores[0][0], labels[0][0]\n",
    "\n",
    "    # Make int coordinates\n",
    "    b = box.astype(int)\n",
    "\n",
    "    image_croped = crop[b[1]:b[3], b[0]:b[2]]\n",
    "    image_croped = cv2.cvtColor(image_croped, cv2.COLOR_BGR2RGB)\n",
    "\n",
    "    return image_croped"
   ]
  },
  {
   "cell_type": "code",
   "execution_count": 8,
   "metadata": {
    "id": "2kak6AAYkwZ-"
   },
   "outputs": [],
   "source": [
    "# Rotation functions\n",
    "def rotate_image(image, angle):\n",
    "    image_center = tuple(np.array(image.shape[1::-1]) / 2)\n",
    "    rot_mat = cv2.getRotationMatrix2D(image_center, angle, 1.0)\n",
    "    result = cv2.warpAffine(image, rot_mat, image.shape[1::-1], flags=cv2.INTER_LINEAR)\n",
    "    return result\n",
    "\n",
    "def compute_skew(src_img):\n",
    "\n",
    "    if len(src_img.shape) == 3:\n",
    "        h, w, _ = src_img.shape\n",
    "    elif len(src_img.shape) == 2:\n",
    "        h, w = src_img.shape\n",
    "    else:\n",
    "        print('upsupported image type')\n",
    "\n",
    "    img = cv2.medianBlur(src_img, 3)\n",
    "\n",
    "    edges = cv2.Canny(img,  threshold1 = 30,  threshold2 = 100, apertureSize = 3, L2gradient = True)\n",
    "    lines = cv2.HoughLinesP(edges, 1, math.pi/180, 30, minLineLength=w / 4.0, maxLineGap=h/4.0)\n",
    "    angle = 0.0\n",
    "    nlines = lines.size\n",
    "\n",
    "    #print(nlines)\n",
    "    cnt = 0\n",
    "    for x1, y1, x2, y2 in lines[0]:\n",
    "        ang = np.arctan2(y2 - y1, x2 - x1)\n",
    "        #print(ang)\n",
    "        if math.fabs(ang) <= 30: # excluding extreme rotations\n",
    "            angle += ang\n",
    "            cnt += 1\n",
    "\n",
    "    if cnt == 0:\n",
    "        return 0.0\n",
    "    return (angle / cnt)*180/math.pi\n",
    "\n",
    "def deskew(src_img):\n",
    "    return rotate_image(src_img, compute_skew(src_img))"
   ]
  },
  {
   "cell_type": "code",
   "execution_count": 9,
   "metadata": {
    "id": "1t1gTsilEKnG"
   },
   "outputs": [],
   "source": [
    "# Function to crop price_id, price_lei and price_bani from price_tag\n",
    "def model_elements_of_price_tag(image):\n",
    "    # Prepare test images to crop from \n",
    "    crop = image.copy()\n",
    "    crop = cv2.cvtColor(crop, cv2.COLOR_BGR2RGB)\n",
    "\n",
    "    # Define a dataframe  coordinates\n",
    "    df = pd.DataFrame(columns = ['class_id','score','x_min','x_max','y_min','y_max'])\n",
    "\n",
    "    # # preprocess image for network\n",
    "    # image = preprocess_image(image)\n",
    "    # image, scale = resize_image(image)\n",
    "\n",
    "    # process image\n",
    "    boxes, scores, labels = model_2.predict_on_batch(np.expand_dims(image, axis=0))\n",
    "  \n",
    "  # # correct for image scale\n",
    "  # boxes /= scale\n",
    "  \n",
    "    for box, score, label in zip(boxes[0], scores[0], labels[0]):\n",
    "        # scores are sorted so we can break\n",
    "        if score < 0.3:\n",
    "            break\n",
    "\n",
    "        # Make coordinates as int type\n",
    "        b = box.astype(int)\n",
    "\n",
    "        df = df.append({'class_id':label,\n",
    "                'score':score,\n",
    "                'x_min':b[1],\n",
    "                'x_max':b[3],\n",
    "                'y_min':b[0],\n",
    "                'y_max':b[2]}, ignore_index=True)\n",
    "\n",
    "\n",
    "    # Calculate best bounding box coordinates for each class ={1,2,3}\n",
    "    # Class 1 - product_id\n",
    "    class_1_best_score = df[df.class_id == 1].score.max()\n",
    "    class_1_x_min = int(df[(df.class_id == 1)&(df.score == class_1_best_score)].x_min)\n",
    "    class_1_y_min = int(df[(df.class_id == 1)&(df.score == class_1_best_score)].y_min)\n",
    "    class_1_x_max = int(df[(df.class_id == 1)&(df.score == class_1_best_score)].x_max)\n",
    "    class_1_y_max = int(df[(df.class_id == 1)&(df.score == class_1_best_score)].y_max)\n",
    "\n",
    "    # Class 2 - price_lei\n",
    "    class_2_best_score = df[df.class_id == 2].score.max()\n",
    "    class_2_x_min = int(df[(df.class_id == 2)&(df.score == class_2_best_score)].x_min)\n",
    "    class_2_y_min = int(df[(df.class_id == 2)&(df.score == class_2_best_score)].y_min)\n",
    "    class_2_x_max = int(df[(df.class_id == 2)&(df.score == class_2_best_score)].x_max)\n",
    "    class_2_y_max = int(df[(df.class_id == 2)&(df.score == class_2_best_score)].y_max)\n",
    "\n",
    "    # Class 3 - price_bani\n",
    "    class_3_best_score = df[df.class_id == 3].score.max()\n",
    "    class_3_x_min = int(df[(df.class_id == 3)&(df.score == class_3_best_score)].x_min)\n",
    "    class_3_y_min = int(df[(df.class_id == 3)&(df.score == class_3_best_score)].y_min)\n",
    "    class_3_x_max = int(df[(df.class_id == 3)&(df.score == class_3_best_score)].x_max)\n",
    "    class_3_y_max = int(df[(df.class_id == 3)&(df.score == class_3_best_score)].y_max)\n",
    "\n",
    "    crop_id = crop[class_1_x_min:class_1_x_max, class_1_y_min:class_1_y_max]\n",
    "    crop_lei = crop[class_2_x_min:class_2_x_max, class_2_y_min:class_2_y_max]\n",
    "    crop_bani = crop[class_3_x_min:class_3_x_max, class_3_y_min:class_3_y_max]\n",
    "\n",
    "    return crop_id, crop_lei, crop_bani\n"
   ]
  },
  {
   "cell_type": "code",
   "execution_count": 10,
   "metadata": {
    "id": "tnUzMVtneDym"
   },
   "outputs": [],
   "source": [
    "# Text from product_name\n",
    "def text_from_name(image):\n",
    "    img_rgb = cv2.cvtColor(image, cv2.COLOR_BGR2RGB)\n",
    "    test_list = pytesseract.image_to_string(img_rgb).split('\\n')\n",
    "\n",
    "\n",
    "    # using join() + generator to remove special characters\n",
    "    special_char = '@_!#$^&*()<>?/\\|}{~:;.[]'\n",
    "    out_list = [''.join(x for x in string if not x in special_char) for string in test_list]\n",
    "\n",
    "    # trim spaces\n",
    "    out_list = [elem.strip() for elem in out_list]\n",
    "\n",
    "    # remove Null elements\n",
    "    out_list = list(filter(None, out_list))\n",
    "\n",
    "    return out_list[0]"
   ]
  },
  {
   "cell_type": "code",
   "execution_count": 11,
   "metadata": {
    "id": "iVCYD-6hc30R"
   },
   "outputs": [],
   "source": [
    "# Text from croped_id\n",
    "def text_from_id(image):  \n",
    "    # Set config for tesseract\n",
    "    config=' --psm 13 --oem 3 -c tessedit_char_whitelist=0123456789'\n",
    "\n",
    "    img = cv2.resize(image, None, fx=1.2, fy=1.2, interpolation=cv2.INTER_CUBIC)\n",
    "    img = cv2.cvtColor(img, cv2.COLOR_BGR2GRAY)\n",
    "\n",
    "    kernel = np.ones((1, 1), np.uint8)\n",
    "    img = cv2.dilate(img, kernel, iterations=1)\n",
    "    img = cv2.erode(img, kernel, iterations=1)\n",
    "\n",
    "    text_list = str(pytesseract.image_to_string(img, config=config).split('\\n')[0])\n",
    "\n",
    "    # using join() + generator to remove special characters\n",
    "    special_char = '@_-!#$^&*()<>?/\\|}{~:;.[]'\n",
    "    out_list = [''.join(x for x in string if not x in special_char) for string in text_list]\n",
    "\n",
    "    # trim spaces\n",
    "    out_list = [elem.strip() for elem in out_list]\n",
    "\n",
    "    # remove Null elements\n",
    "    out_list = list(filter(None, out_list))\n",
    "\n",
    "    out_list = ''.join(out_list)\n",
    "\n",
    "    return out_list"
   ]
  },
  {
   "cell_type": "code",
   "execution_count": 12,
   "metadata": {
    "id": "0qhyrT-O9jrI"
   },
   "outputs": [],
   "source": [
    "# By default OpenCV stores images in BGR format and since pytesseract assumes RGB format,\n",
    "# we need to convert from BGR to RGB format/mode:\n",
    "def text_from_price_lei(image):\n",
    "\n",
    "    img = cv2.resize(image, None, fx=1.5 , fy=1.5, interpolation=cv2.INTER_CUBIC)\n",
    "    img = cv2.cvtColor(img, cv2.COLOR_BGR2GRAY)\n",
    "\n",
    "    kernel = np.ones((1, 1), np.uint8)\n",
    "    img = cv2.dilate(img, kernel, iterations=1)\n",
    "    img = cv2.erode(img, kernel, iterations=1)\n",
    "    img = cv2.threshold(img, 0, 255, cv2.THRESH_BINARY + cv2.THRESH_OTSU)[1]\n",
    "\n",
    "    config=' --psm 13 --oem 1 -c tessedit_char_whitelist=0123456789'\n",
    "    text = pytesseract.image_to_string(img, config=config).split('\\n')\n",
    "\n",
    "    return text[0]"
   ]
  },
  {
   "cell_type": "code",
   "execution_count": 13,
   "metadata": {
    "id": "zZOfqZt40LVM"
   },
   "outputs": [],
   "source": [
    "# By default OpenCV stores images in BGR format and since pytesseract assumes RGB format,\n",
    "# we need to convert from BGR to RGB format/mode:\n",
    "def text_from_price_bani(image):\n",
    "\n",
    "    img = cv2.resize(image, None, fx=1.5 , fy=1.5, interpolation=cv2.INTER_CUBIC)\n",
    "    img = cv2.cvtColor(img, cv2.COLOR_BGR2GRAY)\n",
    "\n",
    "    kernel = np.ones((1, 1), np.uint8)\n",
    "    img = cv2.dilate(img, kernel, iterations=1)\n",
    "    img = cv2.erode(img, kernel, iterations=1)\n",
    "    img = cv2.threshold(img, 0, 255, cv2.THRESH_BINARY + cv2.THRESH_OTSU)[1]\n",
    "\n",
    "    # Set config for tesseract\n",
    "    config=' --psm 13 --oem 3 -c tessedit_char_whitelist=0123456789'\n",
    "    text = str(pytesseract.image_to_string(img, config=config)).split('\\n')[0]\n",
    "\n",
    "    return text"
   ]
  },
  {
   "cell_type": "code",
   "execution_count": 14,
   "metadata": {
    "id": "Z7LEY7LFz90U"
   },
   "outputs": [],
   "source": [
    "def price_tag_detector(file):\n",
    "    image_loaded = read_image_bgr(file)\n",
    "    image_price_tag = model_tag_recognition(image_loaded)\n",
    "    image_deskewed = deskew(image_price_tag)\n",
    "\n",
    "    croped_id, croped_lei ,croped_bani = model_elements_of_price_tag(image_deskewed)\n",
    "\n",
    "    text_name = text_from_name(image_deskewed)\n",
    "\n",
    "    text_id = text_from_id(croped_id)\n",
    "\n",
    "    text_lei = text_from_price_lei(croped_lei)\n",
    "\n",
    "    text_bani = text_from_price_bani(croped_bani)\n",
    "\n",
    "    return text_name, text_id, text_lei, text_bani"
   ]
  },
  {
   "cell_type": "markdown",
   "metadata": {
    "id": "mpuRjdZoD9IL"
   },
   "source": [
    "# **Step 4:** Test our models"
   ]
  },
  {
   "cell_type": "code",
   "execution_count": 15,
   "metadata": {
    "colab": {
     "base_uri": "https://localhost:8080/"
    },
    "id": "jbWntWasj-YV",
    "outputId": "88b73bdc-eb20-4552-de30-4f71b4a4ba2d"
   },
   "outputs": [
    {
     "name": "stderr",
     "output_type": "stream",
     "text": [
      "Using TensorFlow backend.\n"
     ]
    },
    {
     "name": "stdout",
     "output_type": "stream",
     "text": [
      "CPU times: user 7.4 s, sys: 812 ms, total: 8.21 s\n",
      "Wall time: 6.69 s\n"
     ]
    }
   ],
   "source": [
    "%%time\n",
    "model_1 = load_model_weights(model_path_1)\n",
    "model_2 = load_model_weights(model_path_2)"
   ]
  },
  {
   "cell_type": "code",
   "execution_count": 16,
   "metadata": {
    "colab": {
     "base_uri": "https://localhost:8080/",
     "height": 1000
    },
    "id": "LJZo---eClSv",
    "outputId": "e673d344-ca97-4d94-f632-f7354611ddcf"
   },
   "outputs": [
    {
     "data": {
      "image/jpeg": "[encoded data removed]",
      "text/plain": [
       "<IPython.core.display.Image object>"
      ]
     },
     "execution_count": 16,
     "metadata": {},
     "output_type": "execute_result"
    }
   ],
   "source": [
    "from IPython.display import Image\n",
    "Image('test_images/Romania_foto_100.jpg')"
   ]
  },
  {
   "cell_type": "code",
   "execution_count": 17,
   "metadata": {
    "colab": {
     "base_uri": "https://localhost:8080/"
    },
    "id": "qGFCe9VfiNh2",
    "outputId": "7178a750-4664-4130-8c54-60767150c7bc"
   },
   "outputs": [
    {
     "name": "stdout",
     "output_type": "stream",
     "text": [
      "CPU times: user 17.2 s, sys: 412 ms, total: 17.6 s\n",
      "Wall time: 6.07 s\n"
     ]
    },
    {
     "data": {
      "text/html": [
       "<div>\n",
       "<style scoped>\n",
       "    .dataframe tbody tr th:only-of-type {\n",
       "        vertical-align: middle;\n",
       "    }\n",
       "\n",
       "    .dataframe tbody tr th {\n",
       "        vertical-align: top;\n",
       "    }\n",
       "\n",
       "    .dataframe thead th {\n",
       "        text-align: right;\n",
       "    }\n",
       "</style>\n",
       "<table border=\"1\" class=\"dataframe\">\n",
       "  <thead>\n",
       "    <tr style=\"text-align: right;\">\n",
       "      <th></th>\n",
       "      <th>File</th>\n",
       "      <th>Product_name</th>\n",
       "      <th>Product_ID</th>\n",
       "      <th>Price</th>\n",
       "    </tr>\n",
       "  </thead>\n",
       "  <tbody>\n",
       "    <tr>\n",
       "      <th>0</th>\n",
       "      <td>test_images/Romania_foto_100.jpg</td>\n",
       "      <td>PATE DE PORC CEAPA VERDE100G</td>\n",
       "      <td>5041416008610</td>\n",
       "      <td>15.4</td>\n",
       "    </tr>\n",
       "  </tbody>\n",
       "</table>\n",
       "</div>"
      ],
      "text/plain": [
       "                               File                  Product_name  \\\n",
       "0  test_images/Romania_foto_100.jpg  PATE DE PORC CEAPA VERDE100G   \n",
       "\n",
       "      Product_ID Price  \n",
       "0  5041416008610  15.4  "
      ]
     },
     "execution_count": 17,
     "metadata": {},
     "output_type": "execute_result"
    }
   ],
   "source": [
    "%%time\n",
    "file = 'test_images/Romania_foto_100.jpg'\n",
    "\n",
    "df_text = pd.DataFrame(columns = ['File','Product_name','Product_ID','Price'])\n",
    "\n",
    "text_name, text_id, text_lei, text_bani = price_tag_detector(file)\n",
    "\n",
    "df_text = df_text.append({'File':file,\n",
    "                          'Product_name':text_name,\n",
    "                          'Product_ID':text_id,\n",
    "                          'Price': text_lei + '.' + text_bani}, ignore_index=True)\n",
    "\n",
    "df_text"
   ]
  },
  {
   "cell_type": "code",
   "execution_count": null,
   "metadata": {
    "colab": {
     "base_uri": "https://localhost:8080/",
     "height": 81
    },
    "id": "sv9hohYRCdR2",
    "outputId": "106ca209-e9bb-47f4-ed82-e0fc73afdbef"
   },
   "outputs": [],
   "source": [
    "df_text"
   ]
  }
 ],
 "metadata": {
  "colab": {
   "collapsed_sections": [
    "yTV8sR3okzOw",
    "VFUeUdUNlT3I",
    "OkYc769Zl4nH",
    "spD6B8CPENYs",
    "BPAs5OwKEFXG",
    "mpuRjdZoD9IL"
   ],
   "name": "PriceTagRecognitionModel.ipynb",
   "provenance": []
  },
  "kernelspec": {
   "display_name": "product2",
   "language": "python",
   "name": "product2"
  },
  "language_info": {
   "codemirror_mode": {
    "name": "ipython",
    "version": 3
   },
   "file_extension": ".py",
   "mimetype": "text/x-python",
   "name": "python",
   "nbconvert_exporter": "python",
   "pygments_lexer": "ipython3",
   "version": "3.8.5"
  }
 },
 "nbformat": 4,
 "nbformat_minor": 4
}
