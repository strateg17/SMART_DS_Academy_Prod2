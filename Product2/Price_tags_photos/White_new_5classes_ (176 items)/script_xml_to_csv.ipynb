{
 "cells": [
  {
   "cell_type": "markdown",
   "id": "danish-blast",
   "metadata": {},
   "source": [
    "# Script for converting XML into CSV"
   ]
  },
  {
   "cell_type": "code",
   "execution_count": 1,
   "id": "commercial-burning",
   "metadata": {},
   "outputs": [],
   "source": [
    "import os\n",
    "import shutil\n",
    "import zipfile\n",
    "import urllib\n",
    "import xml.etree.ElementTree as ET\n",
    "import numpy as np\n",
    "import csv\n",
    "import pandas"
   ]
  },
  {
   "cell_type": "code",
   "execution_count": 2,
   "id": "collected-header",
   "metadata": {},
   "outputs": [
    {
     "data": {
      "text/plain": [
       "['train',\n",
       " '.ipynb_checkpoints',\n",
       " '.virtual_documents',\n",
       " 'test',\n",
       " 'script_xml_to_csv.ipynb']"
      ]
     },
     "execution_count": 2,
     "metadata": {},
     "output_type": "execute_result"
    }
   ],
   "source": [
    "# all files: jpeg and xml are in the same folder\n",
    "os.listdir()"
   ]
  },
  {
   "cell_type": "code",
   "execution_count": 4,
   "id": "boxed-terminology",
   "metadata": {},
   "outputs": [],
   "source": [
    "# Define the necessary variables\n",
    "DATASET_DIR = 'test'\n",
    "ANNOTATIONS_FILE = 'annotations_train.csv'\n",
    "CLASSES_FILE = 'classes_train.csv'"
   ]
  },
  {
   "cell_type": "markdown",
   "id": "funded-criticism",
   "metadata": {},
   "source": [
    "Ми створюємо два файли csv для ResNet: classes.csv and annotation.csv"
   ]
  },
  {
   "cell_type": "markdown",
   "id": "combined-nirvana",
   "metadata": {},
   "source": [
    "classes.csv містить стовпці з класом та його міткою класу:\n",
    "price_tag, 0\n",
    "product_id, 1\n",
    "product_name, 2\n",
    "priduct_id, 3\n",
    "price_lei, 4\n",
    "price, 5"
   ]
  },
  {
   "cell_type": "markdown",
   "id": "supreme-titanium",
   "metadata": {},
   "source": [
    "annotation.csv містить стовпці глях до файлу та координати боксу + мітку класу."
   ]
  },
  {
   "cell_type": "code",
   "execution_count": 5,
   "id": "impressive-seafood",
   "metadata": {},
   "outputs": [],
   "source": [
    "# Just run this script\n",
    "annotations = []\n",
    "classes = set([])\n",
    "\n",
    "for xml_file in [f for f in os.listdir(DATASET_DIR) if f.endswith(\".xml\")]:\n",
    "    tree = ET.parse(os.path.join(DATASET_DIR, xml_file))\n",
    "    root = tree.getroot()\n",
    "\n",
    "    file_name = None\n",
    "\n",
    "    for elem in root:\n",
    "        if elem.tag == 'filename':\n",
    "            file_name = os.path.join(DATASET_DIR, elem.text)\n",
    "\n",
    "        if elem.tag == 'object':\n",
    "            obj_name = None\n",
    "            coords = []\n",
    "            for subelem in elem:\n",
    "                if subelem.tag == 'name':\n",
    "                    obj_name = subelem.text\n",
    "                if subelem.tag == 'bndbox':\n",
    "                    for subsubelem in subelem:\n",
    "                        coords.append(subsubelem.text)\n",
    "            item = [file_name] + coords + [obj_name]\n",
    "            annotations.append(item)\n",
    "            classes.add(obj_name)\n",
    "\n",
    "with open(ANNOTATIONS_FILE, 'w') as f:\n",
    "    writer = csv.writer(f)\n",
    "    writer.writerows(annotations)\n",
    "\n",
    "with open(CLASSES_FILE, 'w') as f:\n",
    "    for i, line in enumerate(classes):\n",
    "        f.write('{},{}\\n'.format(line,i))"
   ]
  },
  {
   "cell_type": "code",
   "execution_count": null,
   "id": "neither-immunology",
   "metadata": {},
   "outputs": [],
   "source": []
  },
  {
   "cell_type": "code",
   "execution_count": null,
   "id": "wired-holocaust",
   "metadata": {},
   "outputs": [],
   "source": []
  },
  {
   "cell_type": "code",
   "execution_count": null,
   "id": "judicial-prison",
   "metadata": {},
   "outputs": [],
   "source": []
  },
  {
   "cell_type": "code",
   "execution_count": null,
   "id": "occupied-toronto",
   "metadata": {},
   "outputs": [],
   "source": []
  }
 ],
 "metadata": {
  "kernelspec": {
   "display_name": "smart",
   "language": "python",
   "name": "smart"
  },
  "language_info": {
   "codemirror_mode": {
    "name": "ipython",
    "version": 3
   },
   "file_extension": ".py",
   "mimetype": "text/x-python",
   "name": "python",
   "nbconvert_exporter": "python",
   "pygments_lexer": "ipython3",
   "version": "3.8.5"
  }
 },
 "nbformat": 4,
 "nbformat_minor": 5
}
